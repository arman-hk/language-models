{
 "cells": [
  {
   "cell_type": "code",
   "execution_count": 1,
   "id": "4d4836dd-1ed2-41fb-90f2-f384ce4f99bf",
   "metadata": {},
   "outputs": [],
   "source": [
    "import tokenize, ast"
   ]
  },
  {
   "cell_type": "code",
   "execution_count": 2,
   "id": "4b59b258-9c51-4968-84d2-abbd58f3de4f",
   "metadata": {},
   "outputs": [],
   "source": [
    "import tiktoken\n",
    "from tiktoken import encoding_for_model"
   ]
  },
  {
   "cell_type": "code",
   "execution_count": 3,
   "id": "501c9d87-d0dd-440e-ae16-fb3efe6dd754",
   "metadata": {},
   "outputs": [
    {
     "data": {
      "text/plain": [
       "[2028, 374, 264, 8641, 311, 4037, 2065]"
      ]
     },
     "execution_count": 3,
     "metadata": {},
     "output_type": "execute_result"
    }
   ],
   "source": [
    "enc = encoding_for_model(\"gpt-4\")\n",
    "tokens = enc.encode(\"This is a guide to tokenization\")\n",
    "tokens"
   ]
  }
 ],
 "metadata": {
  "kernelspec": {
   "display_name": "Python 3 (ipykernel)",
   "language": "python",
   "name": "python3"
  },
  "language_info": {
   "codemirror_mode": {
    "name": "ipython",
    "version": 3
   },
   "file_extension": ".py",
   "mimetype": "text/x-python",
   "name": "python",
   "nbconvert_exporter": "python",
   "pygments_lexer": "ipython3",
   "version": "3.9.17"
  }
 },
 "nbformat": 4,
 "nbformat_minor": 5
}
